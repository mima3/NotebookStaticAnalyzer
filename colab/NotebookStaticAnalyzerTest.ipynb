{
  "nbformat": 4,
  "nbformat_minor": 0,
  "metadata": {
    "colab": {
      "provenance": []
    },
    "kernelspec": {
      "name": "python3",
      "display_name": "Python 3"
    },
    "language_info": {
      "name": "python"
    }
  },
  "cells": [
    {
      "cell_type": "markdown",
      "source": [
        "# NotebookStaticのサンプルノートブック"
      ],
      "metadata": {
        "id": "SOEM_BCgZtpb"
      }
    },
    {
      "cell_type": "markdown",
      "source": [
        "インストール"
      ],
      "metadata": {
        "id": "pE153q_tZxet"
      }
    },
    {
      "cell_type": "code",
      "execution_count": 1,
      "metadata": {
        "colab": {
          "base_uri": "https://localhost:8080/"
        },
        "id": "kmeeAEF_ZTRH",
        "outputId": "89ddfcc5-4aa3-4f2e-a695-9662096b66b0"
      },
      "outputs": [
        {
          "output_type": "stream",
          "name": "stdout",
          "text": [
            "Collecting git+https://github.com/mima3/NotebookStaticAnalyzer\n",
            "  Cloning https://github.com/mima3/NotebookStaticAnalyzer to /tmp/pip-req-build-3ra22ep_\n",
            "  Running command git clone --filter=blob:none --quiet https://github.com/mima3/NotebookStaticAnalyzer /tmp/pip-req-build-3ra22ep_\n",
            "  Resolved https://github.com/mima3/NotebookStaticAnalyzer to commit 1347ff4ea537e8d26992306d2b30445aa0be2e37\n",
            "  Installing build dependencies ... \u001b[?25l\u001b[?25hdone\n",
            "  Getting requirements to build wheel ... \u001b[?25l\u001b[?25hdone\n",
            "  Preparing metadata (pyproject.toml) ... \u001b[?25l\u001b[?25hdone\n",
            "Collecting flake8 (from notebook_static_analyzer==0.1)\n",
            "  Downloading flake8-6.1.0-py2.py3-none-any.whl (58 kB)\n",
            "\u001b[2K     \u001b[90m━━━━━━━━━━━━━━━━━━━━━━━━━━━━━━━━━━━━━━━━\u001b[0m \u001b[32m58.3/58.3 kB\u001b[0m \u001b[31m1.3 MB/s\u001b[0m eta \u001b[36m0:00:00\u001b[0m\n",
            "\u001b[?25hCollecting flake8-json (from notebook_static_analyzer==0.1)\n",
            "  Downloading flake8_json-23.7.0-py2.py3-none-any.whl (4.6 kB)\n",
            "Collecting pyspellchecker (from notebook_static_analyzer==0.1)\n",
            "  Downloading pyspellchecker-0.7.2-py3-none-any.whl (3.4 MB)\n",
            "\u001b[2K     \u001b[90m━━━━━━━━━━━━━━━━━━━━━━━━━━━━━━━━━━━━━━━━\u001b[0m \u001b[32m3.4/3.4 MB\u001b[0m \u001b[31m9.2 MB/s\u001b[0m eta \u001b[36m0:00:00\u001b[0m\n",
            "\u001b[?25hCollecting mccabe<0.8.0,>=0.7.0 (from flake8->notebook_static_analyzer==0.1)\n",
            "  Downloading mccabe-0.7.0-py2.py3-none-any.whl (7.3 kB)\n",
            "Collecting pycodestyle<2.12.0,>=2.11.0 (from flake8->notebook_static_analyzer==0.1)\n",
            "  Downloading pycodestyle-2.11.1-py2.py3-none-any.whl (31 kB)\n",
            "Collecting pyflakes<3.2.0,>=3.1.0 (from flake8->notebook_static_analyzer==0.1)\n",
            "  Downloading pyflakes-3.1.0-py2.py3-none-any.whl (62 kB)\n",
            "\u001b[2K     \u001b[90m━━━━━━━━━━━━━━━━━━━━━━━━━━━━━━━━━━━━━━━━\u001b[0m \u001b[32m62.6/62.6 kB\u001b[0m \u001b[31m7.2 MB/s\u001b[0m eta \u001b[36m0:00:00\u001b[0m\n",
            "\u001b[?25hBuilding wheels for collected packages: notebook_static_analyzer\n",
            "  Building wheel for notebook_static_analyzer (pyproject.toml) ... \u001b[?25l\u001b[?25hdone\n",
            "  Created wheel for notebook_static_analyzer: filename=notebook_static_analyzer-0.1-py2.py3-none-any.whl size=3396 sha256=694d6bf17822f91872d92886b7d674e32b786db85e40c6e9bd21428b97df918e\n",
            "  Stored in directory: /tmp/pip-ephem-wheel-cache-6ldrf624/wheels/d4/65/9f/50232fee5d0cd5bfd63f03eb372593b83ca7cd9a69be4e603b\n",
            "Successfully built notebook_static_analyzer\n",
            "Installing collected packages: pyspellchecker, pyflakes, pycodestyle, mccabe, flake8-json, flake8, notebook_static_analyzer\n",
            "Successfully installed flake8-6.1.0 flake8-json-23.7.0 mccabe-0.7.0 notebook_static_analyzer-0.1 pycodestyle-2.11.1 pyflakes-3.1.0 pyspellchecker-0.7.2\n"
          ]
        }
      ],
      "source": [
        "!pip install git+https://github.com/mima3/NotebookStaticAnalyzer"
      ]
    },
    {
      "cell_type": "markdown",
      "source": [
        "モジュールを読み込む\n"
      ],
      "metadata": {
        "id": "qMp8agdYZzjb"
      }
    },
    {
      "cell_type": "code",
      "source": [
        "%load_ext notebook_static_analyzer"
      ],
      "metadata": {
        "id": "CvoE-1wjZ5Bb"
      },
      "execution_count": 2,
      "outputs": []
    },
    {
      "cell_type": "markdown",
      "source": [
        "## スペルチェック\n",
        "特定のセルに対してスペルチェックを実施する"
      ],
      "metadata": {
        "id": "YvUYBtDBacDq"
      }
    },
    {
      "cell_type": "code",
      "source": [
        "%%spell_checker\n",
        "import numpy\n",
        "import IPython\n",
        "\n",
        "b = \"I have a Penci.\" # スペルミス\n",
        "print(b)"
      ],
      "metadata": {
        "colab": {
          "base_uri": "https://localhost:8080/"
        },
        "id": "FpQsnjnQaOfQ",
        "outputId": "19fca87d-24bc-4aaa-c38b-be4c6942d210"
      },
      "execution_count": 6,
      "outputs": [
        {
          "output_type": "stream",
          "name": "stdout",
          "text": [
            "I have a Penci.\n",
            "spell check result...\n",
            "2: numpy\n",
            "3: ipython\n",
            "5: b\n",
            "5: penci\n"
          ]
        }
      ]
    },
    {
      "cell_type": "markdown",
      "source": [
        "セル中のプログラムで例外が発生した場合"
      ],
      "metadata": {
        "id": "3KkkB9n6c6Xk"
      }
    },
    {
      "cell_type": "code",
      "source": [
        "%%spell_checker\n",
        "import numpy\n",
        "import IPython\n",
        "\n",
        "a = 5/ 0\n",
        "b = \"I have a Penci.\" # スペルミス\n",
        "print(b)"
      ],
      "metadata": {
        "colab": {
          "base_uri": "https://localhost:8080/",
          "height": 354
        },
        "id": "VgxqYp15c3tv",
        "outputId": "1a07a9dc-6294-45b2-d97d-92ac70781755"
      },
      "execution_count": 29,
      "outputs": [
        {
          "output_type": "error",
          "ename": "ZeroDivisionError",
          "evalue": "ignored",
          "traceback": [
            "\u001b[0;31m---------------------------------------------------------------------------\u001b[0m",
            "\u001b[0;31mZeroDivisionError\u001b[0m                         Traceback (most recent call last)",
            "\u001b[0;32m<ipython-input-29-dcec9565bdbe>\u001b[0m in \u001b[0;36m<cell line: 4>\u001b[0;34m()\u001b[0m\n\u001b[1;32m      2\u001b[0m \u001b[0;32mimport\u001b[0m \u001b[0mIPython\u001b[0m\u001b[0;34m\u001b[0m\u001b[0;34m\u001b[0m\u001b[0m\n\u001b[1;32m      3\u001b[0m \u001b[0;34m\u001b[0m\u001b[0m\n\u001b[0;32m----> 4\u001b[0;31m \u001b[0ma\u001b[0m \u001b[0;34m=\u001b[0m \u001b[0;36m5\u001b[0m\u001b[0;34m/\u001b[0m \u001b[0;36m0\u001b[0m\u001b[0;34m\u001b[0m\u001b[0;34m\u001b[0m\u001b[0m\n\u001b[0m\u001b[1;32m      5\u001b[0m \u001b[0mb\u001b[0m \u001b[0;34m=\u001b[0m \u001b[0;34m\"I have a Penci.\"\u001b[0m \u001b[0;31m# スペルミス\u001b[0m\u001b[0;34m\u001b[0m\u001b[0;34m\u001b[0m\u001b[0m\n\u001b[1;32m      6\u001b[0m \u001b[0mprint\u001b[0m\u001b[0;34m(\u001b[0m\u001b[0mb\u001b[0m\u001b[0;34m)\u001b[0m\u001b[0;34m\u001b[0m\u001b[0;34m\u001b[0m\u001b[0m\n",
            "\u001b[0;31mZeroDivisionError\u001b[0m: division by zero"
          ]
        },
        {
          "output_type": "stream",
          "name": "stdout",
          "text": [
            "spell check result...\n",
            "2: numpy\n",
            "3: ipython\n",
            "6: b\n",
            "6: penci\n",
            "7: b\n"
          ]
        }
      ]
    },
    {
      "cell_type": "markdown",
      "source": [
        "スペルミスではない単語を別ファイルに書き出して実行"
      ],
      "metadata": {
        "id": "LVPwF0QGax9D"
      }
    },
    {
      "cell_type": "code",
      "source": [
        "%%writefile ignore_words.txt\n",
        "numpy\n",
        "IPython\n",
        "txt"
      ],
      "metadata": {
        "colab": {
          "base_uri": "https://localhost:8080/"
        },
        "id": "qKkD2TJba7lY",
        "outputId": "48c59221-941d-4219-9ec1-b7b3642aef7e"
      },
      "execution_count": 14,
      "outputs": [
        {
          "output_type": "stream",
          "name": "stdout",
          "text": [
            "Overwriting ignore_words.txt\n",
            "spell check result...\n",
            "1: writefile\n"
          ]
        }
      ]
    },
    {
      "cell_type": "code",
      "source": [
        "%%spell_checker --ignore_word_path=ignore_words.txt\n",
        "import numpy\n",
        "import IPython\n",
        "\n",
        "b = \"I have a Penci.\" # スペルミス\n",
        "print(b)"
      ],
      "metadata": {
        "colab": {
          "base_uri": "https://localhost:8080/"
        },
        "id": "7P6fbmzZajZs",
        "outputId": "8e31c701-ad68-48f4-88e9-4b6b3c9b3d72"
      },
      "execution_count": 10,
      "outputs": [
        {
          "output_type": "stream",
          "name": "stdout",
          "text": [
            "I have a Penci.\n",
            "spell check result...\n",
            "5: b\n",
            "5: penci\n",
            "6: b\n"
          ]
        }
      ]
    },
    {
      "cell_type": "markdown",
      "source": [
        "短い単語はスペルミスとしない。以下の例では1文字の単語はスペルミスにしない"
      ],
      "metadata": {
        "id": "GpZfcN9NbM6C"
      }
    },
    {
      "cell_type": "code",
      "source": [
        "%%spell_checker --ignore_word_path=ignore_words.txt --min_len=2\n",
        "import numpy\n",
        "import IPython\n",
        "\n",
        "b = \"I have a Penci.\" # スペルミス\n",
        "print(b)"
      ],
      "metadata": {
        "colab": {
          "base_uri": "https://localhost:8080/"
        },
        "id": "W1I7WPfBbMeo",
        "outputId": "375bfbe9-9bb1-4664-e608-65c25bbc013e"
      },
      "execution_count": 11,
      "outputs": [
        {
          "output_type": "stream",
          "name": "stdout",
          "text": [
            "I have a Penci.\n",
            "spell check result...\n",
            "5: penci\n"
          ]
        }
      ]
    },
    {
      "cell_type": "markdown",
      "source": [
        "複数のセルについてスペルチェックをしたい場合は%spell_checker_onと%spell_checker_offを指定してスペルチェックを行う範囲を設定する"
      ],
      "metadata": {
        "id": "qrvTXBNbbzkw"
      }
    },
    {
      "cell_type": "code",
      "source": [
        "%spell_checker_on --ignore_word_path=ignore_words.txt --min_len=2"
      ],
      "metadata": {
        "colab": {
          "base_uri": "https://localhost:8080/"
        },
        "id": "IPzYccltbnFG",
        "outputId": "3f36ae38-0672-4fe1-e0cd-84b5a847889f"
      },
      "execution_count": 25,
      "outputs": [
        {
          "output_type": "stream",
          "name": "stdout",
          "text": [
            "spell check result...\n"
          ]
        }
      ]
    },
    {
      "cell_type": "code",
      "source": [
        "import numpy\n",
        "import IPython\n",
        "\n",
        "b = \"I have a Penci.\" # スペルミス\n",
        "print(b)"
      ],
      "metadata": {
        "colab": {
          "base_uri": "https://localhost:8080/"
        },
        "id": "1ZrbG4ozbrko",
        "outputId": "a6b996b2-ed0b-4d44-efb8-2d51786902b9"
      },
      "execution_count": 26,
      "outputs": [
        {
          "output_type": "stream",
          "name": "stdout",
          "text": [
            "I have a Penci.\n",
            "spell check result...\n",
            "4: penci\n"
          ]
        }
      ]
    },
    {
      "cell_type": "code",
      "source": [
        "print('I have a spel miss')"
      ],
      "metadata": {
        "colab": {
          "base_uri": "https://localhost:8080/"
        },
        "id": "r2dl98aqb66F",
        "outputId": "4e2e1b31-22dc-40d5-81af-97eee27e9da5"
      },
      "execution_count": 27,
      "outputs": [
        {
          "output_type": "stream",
          "name": "stdout",
          "text": [
            "I have a spel miss\n",
            "spell check result...\n",
            "1: spel\n"
          ]
        }
      ]
    },
    {
      "cell_type": "code",
      "source": [
        "%spell_checker_off"
      ],
      "metadata": {
        "id": "q1QMCGXfb35S"
      },
      "execution_count": 28,
      "outputs": []
    },
    {
      "cell_type": "code",
      "source": [
        "# spell_checker_offのあとはスペルチェックをしない\n",
        "print('I have a spel miss')"
      ],
      "metadata": {
        "colab": {
          "base_uri": "https://localhost:8080/"
        },
        "id": "Qc1bavXecAlZ",
        "outputId": "2f1b70cb-0d63-447d-98c5-f57c55148e86"
      },
      "execution_count": 23,
      "outputs": [
        {
          "output_type": "stream",
          "name": "stdout",
          "text": [
            "I have a spel miss\n"
          ]
        }
      ]
    },
    {
      "cell_type": "markdown",
      "source": [
        "## flake8による静的解析"
      ],
      "metadata": {
        "id": "5up-3IZDcX_v"
      }
    },
    {
      "cell_type": "markdown",
      "source": [
        "特定のセルに対してflake8を実行する"
      ],
      "metadata": {
        "id": "6SFYelPtdaQ0"
      }
    },
    {
      "cell_type": "code",
      "source": [
        "%%flake8\n",
        "a =   \"1234567890123456789012345678901234567890123456789012345678901234567890123456789012345678901234567890123456789012345678901234567890123456789012345678901234567890\"\n",
        "print(a)\n",
        "\n"
      ],
      "metadata": {
        "colab": {
          "base_uri": "https://localhost:8080/"
        },
        "id": "TmfuCnYNdP1W",
        "outputId": "eba24539-5889-48f8-a9e3-13281c9dadfd"
      },
      "execution_count": 35,
      "outputs": [
        {
          "output_type": "stream",
          "name": "stdout",
          "text": [
            "1234567890123456789012345678901234567890123456789012345678901234567890123456789012345678901234567890123456789012345678901234567890123456789012345678901234567890\n",
            "flake8 ...\n",
            "2 : 4 E222 multiple spaces after operator\n",
            "2 : 80 E501 line too long (168 > 79 characters)\n",
            "4 : 1 W391 blank line at end of file\n"
          ]
        }
      ]
    },
    {
      "cell_type": "markdown",
      "source": [
        "セル中のコードで例外が出るケース"
      ],
      "metadata": {
        "id": "A4Z0RWyFdgyb"
      }
    },
    {
      "cell_type": "code",
      "source": [
        "%%flake8\n",
        "a =   \"12345678901234567890123456789012345678901234567890123456789012345678901234567890\"\n",
        "print(a)\n",
        "a / 0\n",
        "\n"
      ],
      "metadata": {
        "colab": {
          "base_uri": "https://localhost:8080/",
          "height": 284
        },
        "id": "3KJkNKbgdeB9",
        "outputId": "1363b1f6-cb32-4b30-df01-6c99e0f2695c"
      },
      "execution_count": 32,
      "outputs": [
        {
          "output_type": "stream",
          "name": "stdout",
          "text": [
            "12345678901234567890123456789012345678901234567890123456789012345678901234567890\n"
          ]
        },
        {
          "output_type": "error",
          "ename": "TypeError",
          "evalue": "ignored",
          "traceback": [
            "\u001b[0;31m---------------------------------------------------------------------------\u001b[0m",
            "\u001b[0;31mTypeError\u001b[0m                                 Traceback (most recent call last)",
            "\u001b[0;32m<ipython-input-32-24394973ec38>\u001b[0m in \u001b[0;36m<cell line: 3>\u001b[0;34m()\u001b[0m\n\u001b[1;32m      1\u001b[0m \u001b[0ma\u001b[0m \u001b[0;34m=\u001b[0m   \u001b[0;34m\"12345678901234567890123456789012345678901234567890123456789012345678901234567890\"\u001b[0m\u001b[0;34m\u001b[0m\u001b[0;34m\u001b[0m\u001b[0m\n\u001b[1;32m      2\u001b[0m \u001b[0mprint\u001b[0m\u001b[0;34m(\u001b[0m\u001b[0ma\u001b[0m\u001b[0;34m)\u001b[0m\u001b[0;34m\u001b[0m\u001b[0;34m\u001b[0m\u001b[0m\n\u001b[0;32m----> 3\u001b[0;31m \u001b[0ma\u001b[0m \u001b[0;34m/\u001b[0m \u001b[0;36m0\u001b[0m\u001b[0;34m\u001b[0m\u001b[0;34m\u001b[0m\u001b[0m\n\u001b[0m",
            "\u001b[0;31mTypeError\u001b[0m: unsupported operand type(s) for /: 'str' and 'int'"
          ]
        },
        {
          "output_type": "stream",
          "name": "stdout",
          "text": [
            "flake8 ...\n",
            "2 : 4 E222 multiple spaces after operator\n",
            "2 : 80 E501 line too long (88 > 79 characters)\n"
          ]
        }
      ]
    },
    {
      "cell_type": "markdown",
      "source": [
        "一行の最大文字数を設定する場合"
      ],
      "metadata": {
        "id": "wi9qzNiEd0cS"
      }
    },
    {
      "cell_type": "code",
      "source": [
        "%%flake8 --max_line_length=255\n",
        "a =   \"1234567890123456789012345678901234567890123456789012345678901234567890123456789012345678901234567890123456789012345678901234567890123456789012345678901234567890\"\n",
        "print(a)\n",
        "\n"
      ],
      "metadata": {
        "colab": {
          "base_uri": "https://localhost:8080/"
        },
        "id": "61XOjDHkdn3q",
        "outputId": "8f9b5370-2473-4233-9754-1aa0cb765a23"
      },
      "execution_count": 36,
      "outputs": [
        {
          "output_type": "stream",
          "name": "stdout",
          "text": [
            "1234567890123456789012345678901234567890123456789012345678901234567890123456789012345678901234567890123456789012345678901234567890123456789012345678901234567890\n",
            "flake8 ...\n",
            "2 : 4 E222 multiple spaces after operator\n",
            "4 : 1 W391 blank line at end of file\n"
          ]
        }
      ]
    },
    {
      "cell_type": "markdown",
      "source": [
        "特定のエラーを無視する場合はコードを,区切りで指定する"
      ],
      "metadata": {
        "id": "q6zxCC22d4Oe"
      }
    },
    {
      "cell_type": "code",
      "source": [
        "%%flake8 --ignore=E501,W391\n",
        "a =   \"1234567890123456789012345678901234567890123456789012345678901234567890123456789012345678901234567890123456789012345678901234567890123456789012345678901234567890\"\n",
        "print(a)\n",
        "\n"
      ],
      "metadata": {
        "colab": {
          "base_uri": "https://localhost:8080/"
        },
        "id": "wvZoGA03d9jk",
        "outputId": "5ff64969-8646-4175-960e-a6e383ea2086"
      },
      "execution_count": 37,
      "outputs": [
        {
          "output_type": "stream",
          "name": "stdout",
          "text": [
            "1234567890123456789012345678901234567890123456789012345678901234567890123456789012345678901234567890123456789012345678901234567890123456789012345678901234567890\n",
            "flake8 ...\n",
            "2 : 4 E222 multiple spaces after operator\n"
          ]
        }
      ]
    },
    {
      "cell_type": "markdown",
      "source": [
        "複数のセルについて静的解析をしたい場合は%flake8_onと%flake8_offを指定して静的解析を行う範囲を設定する"
      ],
      "metadata": {
        "id": "2BfuvHG5eIRw"
      }
    },
    {
      "cell_type": "code",
      "source": [
        "%flake8_on --max_line_length=255 --ignore=W391"
      ],
      "metadata": {
        "id": "nKiwgyiXePxA"
      },
      "execution_count": 39,
      "outputs": []
    },
    {
      "cell_type": "code",
      "source": [
        "a =   \"1234567890123456789012345678901234567890123456789012345678901234567890123456789012345678901234567890123456789012345678901234567890123456789012345678901234567890\"\n",
        "print(a)\n",
        "\n",
        "\n"
      ],
      "metadata": {
        "colab": {
          "base_uri": "https://localhost:8080/"
        },
        "id": "RnAnZRrPeXzp",
        "outputId": "4478d601-44fc-4f05-8241-c8a868f21014"
      },
      "execution_count": 40,
      "outputs": [
        {
          "output_type": "stream",
          "name": "stdout",
          "text": [
            "1234567890123456789012345678901234567890123456789012345678901234567890123456789012345678901234567890123456789012345678901234567890123456789012345678901234567890\n",
            "flake8 ...\n",
            "1 : 4 E222 multiple spaces after operator\n"
          ]
        }
      ]
    },
    {
      "cell_type": "code",
      "source": [
        "b =  5"
      ],
      "metadata": {
        "colab": {
          "base_uri": "https://localhost:8080/"
        },
        "id": "2zb1czf_edQH",
        "outputId": "ed602b9b-7f67-41d2-ca58-e456d4223c4f"
      },
      "execution_count": 41,
      "outputs": [
        {
          "output_type": "stream",
          "name": "stdout",
          "text": [
            "flake8 ...\n",
            "1 : 4 E222 multiple spaces after operator\n",
            "1 : 7 W292 no newline at end of file\n"
          ]
        }
      ]
    },
    {
      "cell_type": "code",
      "source": [
        "%flake8_off"
      ],
      "metadata": {
        "id": "b4mEGVBqegNQ"
      },
      "execution_count": 42,
      "outputs": []
    },
    {
      "cell_type": "code",
      "source": [
        "# flake8_offのあとはチェックされない\n",
        "a =   \"1234567890123456789012345678901234567890123456789012345678901234567890123456789012345678901234567890123456789012345678901234567890123456789012345678901234567890\"\n",
        "print(a)\n",
        "\n",
        "\n"
      ],
      "metadata": {
        "id": "fGCOgM-7ejAk"
      },
      "execution_count": null,
      "outputs": []
    }
  ]
}